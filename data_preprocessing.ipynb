{
 "cells": [
  {
   "cell_type": "markdown",
   "id": "c6942662-f44e-4879-b4cc-1967f0205f42",
   "metadata": {},
   "source": [
    "## Install Packages"
   ]
  },
  {
   "cell_type": "code",
   "execution_count": 2,
   "id": "7099f640",
   "metadata": {},
   "outputs": [],
   "source": [
    "import pandas as pd\n",
    "import numpy as np\n"
   ]
  },
  {
   "cell_type": "code",
   "execution_count": 3,
   "id": "115e4350",
   "metadata": {},
   "outputs": [
    {
     "data": {
      "text/plain": [
       "Index(['DR_NO', 'Date Rptd', 'DATE OCC', 'TIME OCC', 'AREA', 'AREA NAME',\n",
       "       'Rpt Dist No', 'Part 1-2', 'Crm Cd', 'Crm Cd Desc', 'Mocodes',\n",
       "       'Vict Age', 'Vict Sex', 'Vict Descent', 'Premis Cd', 'Premis Desc',\n",
       "       'Weapon Used Cd', 'Weapon Desc', 'Status', 'Status Desc', 'Crm Cd 1',\n",
       "       'Crm Cd 2', 'Crm Cd 3', 'Crm Cd 4', 'LOCATION', 'Cross Street', 'LAT',\n",
       "       'LON'],\n",
       "      dtype='object')"
      ]
     },
     "execution_count": 3,
     "metadata": {},
     "output_type": "execute_result"
    }
   ],
   "source": [
    "df = pd.read_csv('Data/Crime_Data_from_2020_to_2024.csv')\n",
    "df.columns"
   ]
  },
  {
   "cell_type": "code",
   "execution_count": 4,
   "id": "7ef93a7e-004d-4c29-b207-1c67dde81b90",
   "metadata": {},
   "outputs": [
    {
     "data": {
      "text/plain": [
       "DR_NO               int64\n",
       "Date Rptd          object\n",
       "DATE OCC           object\n",
       "TIME OCC            int64\n",
       "AREA                int64\n",
       "AREA NAME          object\n",
       "Rpt Dist No         int64\n",
       "Part 1-2            int64\n",
       "Crm Cd              int64\n",
       "Crm Cd Desc        object\n",
       "Mocodes            object\n",
       "Vict Age            int64\n",
       "Vict Sex           object\n",
       "Vict Descent       object\n",
       "Premis Cd         float64\n",
       "Premis Desc        object\n",
       "Weapon Used Cd    float64\n",
       "Weapon Desc        object\n",
       "Status             object\n",
       "Status Desc        object\n",
       "Crm Cd 1          float64\n",
       "Crm Cd 2          float64\n",
       "Crm Cd 3          float64\n",
       "Crm Cd 4          float64\n",
       "LOCATION           object\n",
       "Cross Street       object\n",
       "LAT               float64\n",
       "LON               float64\n",
       "dtype: object"
      ]
     },
     "execution_count": 4,
     "metadata": {},
     "output_type": "execute_result"
    }
   ],
   "source": [
    "df.dtypes"
   ]
  },
  {
   "cell_type": "markdown",
   "id": "b54b280d-f54c-42c0-bb5c-e85177d47d5a",
   "metadata": {},
   "source": [
    "## Rename the columns and remove white spaces"
   ]
  },
  {
   "cell_type": "code",
   "execution_count": 5,
   "id": "ac05cce5",
   "metadata": {},
   "outputs": [],
   "source": [
    "df.columns = df.columns.str.replace(' ','_')\n",
    "df.columns = df.columns.str.title()"
   ]
  },
  {
   "cell_type": "markdown",
   "id": "bbe317d3-158f-4e4f-8ebc-692b1a48ad60",
   "metadata": {},
   "source": [
    "### Data standardization "
   ]
  },
  {
   "cell_type": "code",
   "execution_count": 6,
   "id": "09d375f3-491a-4b65-a5db-3f9d2211afed",
   "metadata": {},
   "outputs": [],
   "source": [
    "Columns_Capitalized = ['Area_Name','Crm_Cd_Desc','Premis_Desc','Status_Desc','Location','Cross_Street']\n",
    "for col in Columns_Capitalized:\n",
    "    df[col] = df[col].str.title()"
   ]
  },
  {
   "cell_type": "markdown",
   "id": "31796ca6-cade-40ed-b398-91b5f0156e3f",
   "metadata": {},
   "source": [
    "### Separate the dates and extract only the format dd/mm/yy."
   ]
  },
  {
   "cell_type": "code",
   "execution_count": 7,
   "id": "fc53cd29",
   "metadata": {},
   "outputs": [],
   "source": [
    "df.Date_Rptd = df.Date_Rptd.str.split().str[0]\n",
    "df.Date_Occ = df.Date_Occ.str.split().str[0]"
   ]
  },
  {
   "cell_type": "markdown",
   "id": "95a8cc71-68fa-48a5-9fcc-190c5e4a262d",
   "metadata": {},
   "source": [
    "### Remove the columns that are not relevant for analysis."
   ]
  },
  {
   "cell_type": "code",
   "execution_count": 8,
   "id": "306bb8af",
   "metadata": {},
   "outputs": [],
   "source": [
    "df.drop(['Dr_No','Area','Part_1-2','Mocodes','Premis_Cd','Weapon_Used_Cd','Status','Crm_Cd','Crm_Cd_1','Crm_Cd_2','Crm_Cd_3','Crm_Cd_4'],axis=1,inplace=True)"
   ]
  },
  {
   "cell_type": "markdown",
   "id": "184cf363-0274-4b5f-96f4-383868c6d3ef",
   "metadata": {},
   "source": [
    "### Check and handle any missing values in the dataset."
   ]
  },
  {
   "cell_type": "code",
   "execution_count": 9,
   "id": "a9f20f3c-c866-42a4-bcfb-1f24bd62d279",
   "metadata": {},
   "outputs": [
    {
     "data": {
      "text/plain": [
       "Date_Rptd            0\n",
       "Date_Occ             0\n",
       "Time_Occ             0\n",
       "Area_Name            0\n",
       "Rpt_Dist_No          0\n",
       "Crm_Cd_Desc          0\n",
       "Vict_Age             0\n",
       "Vict_Sex        124206\n",
       "Vict_Descent    124216\n",
       "Premis_Desc        562\n",
       "Weapon_Desc     610801\n",
       "Status_Desc          0\n",
       "Location             0\n",
       "Cross_Street    786138\n",
       "Lat                  0\n",
       "Lon                  0\n",
       "dtype: int64"
      ]
     },
     "execution_count": 9,
     "metadata": {},
     "output_type": "execute_result"
    }
   ],
   "source": [
    "df.isnull().sum()"
   ]
  },
  {
   "cell_type": "code",
   "execution_count": 10,
   "id": "7e4daf76-9330-4de0-8f48-3ff7b0715128",
   "metadata": {},
   "outputs": [
    {
     "data": {
      "text/plain": [
       "0          1900 S  Longwood                     Av\n",
       "1          1000 S  Flower                       St\n",
       "2          1400 W  37Th                         St\n",
       "3         14000    Riverside                    Dr\n",
       "4                                1900    Transient\n",
       "                            ...                   \n",
       "932135     8700    Sharp                        Av\n",
       "932136     8700    Lankershim                   Bl\n",
       "932137    22700    Napa                         St\n",
       "932138             Hobart                       Bl\n",
       "932139     1300 W  Sunset                       Bl\n",
       "Name: Location, Length: 932140, dtype: object"
      ]
     },
     "execution_count": 10,
     "metadata": {},
     "output_type": "execute_result"
    }
   ],
   "source": [
    "df.Location"
   ]
  },
  {
   "cell_type": "code",
   "execution_count": 11,
   "id": "3024f8b5-15d7-411b-ba9f-e45696223e6b",
   "metadata": {},
   "outputs": [],
   "source": [
    "df.dropna(subset=['Vict_Sex','Premis_Desc'],inplace=True)\n",
    "df.Vict_Descent.fillna('Unknown',inplace=True)"
   ]
  },
  {
   "cell_type": "code",
   "execution_count": 12,
   "id": "8b82dcd5-96e5-49c5-bf78-ab7e65e7a88f",
   "metadata": {},
   "outputs": [],
   "source": [
    "df.Weapon_Desc.fillna('Unknown',inplace=True)"
   ]
  },
  {
   "cell_type": "code",
   "execution_count": 13,
   "id": "6b6e9871-4731-4dd7-aab6-1898ca2a61cd",
   "metadata": {},
   "outputs": [],
   "source": [
    "df.Weapon_Desc = df.Weapon_Desc.str.replace('UNKNOWN WEAPON/OTHER WEAPON' , 'Unknown')"
   ]
  },
  {
   "cell_type": "code",
   "execution_count": 14,
   "id": "d956fcfe-f534-4941-bf10-98c7c1b4d16a",
   "metadata": {},
   "outputs": [],
   "source": [
    "df = df[(df['Vict_Sex'] == 'M') | (df['Vict_Sex'] == 'F')]"
   ]
  },
  {
   "cell_type": "code",
   "execution_count": 15,
   "id": "e3b92393-3d19-4fa5-aebd-326ef817dd5c",
   "metadata": {},
   "outputs": [],
   "source": [
    "# Delete all the Vict_Age that are smaller or equal to 0\n",
    "df = df[df.Vict_Age > 0]"
   ]
  },
  {
   "cell_type": "markdown",
   "id": "ec25e126-746f-4f29-882e-aca71a948441",
   "metadata": {},
   "source": [
    "### Check and handle any duplicated values in the dataset."
   ]
  },
  {
   "cell_type": "code",
   "execution_count": 16,
   "id": "daec7ef0-887c-4c49-8e90-17daf401a310",
   "metadata": {},
   "outputs": [
    {
     "data": {
      "text/plain": [
       "1108"
      ]
     },
     "execution_count": 16,
     "metadata": {},
     "output_type": "execute_result"
    }
   ],
   "source": [
    "df.duplicated().sum()"
   ]
  },
  {
   "cell_type": "code",
   "execution_count": 17,
   "id": "50ef66a2-03dc-4a3f-990f-b693764cda7c",
   "metadata": {},
   "outputs": [],
   "source": [
    "df.drop_duplicates(inplace=True)"
   ]
  },
  {
   "cell_type": "code",
   "execution_count": 18,
   "id": "ebdd93a7-01a2-4da0-a423-3fcf395aeec4",
   "metadata": {},
   "outputs": [],
   "source": [
    "# df.Cross_Street.apply(lambda x: len(x))\n",
    "# df['Cross_Street'].apply(lambda x: len(x) if isinstance(x, str) else 0)"
   ]
  },
  {
   "cell_type": "code",
   "execution_count": 19,
   "id": "9ae9fc5a-346c-4f05-82d8-27e66be161ab",
   "metadata": {},
   "outputs": [],
   "source": [
    "# this function Combines the Location with Cross_Street if it's NAN value, \n",
    "# and otherwise it keeps the Location and get rid of the Cross_Street Where it's NAN \n",
    "def Get_Whole_Location(row):\n",
    "    if pd.isna(row['Cross_Street']):\n",
    "        return row['Location'].strip()\n",
    "    else:\n",
    "        return (row['Location'].strip() + ' ' + row['Cross_Street'].strip()).strip()\n",
    "df['Whole_Location'] = df.apply(Get_Whole_Location,axis=1)"
   ]
  },
  {
   "cell_type": "code",
   "execution_count": 20,
   "id": "cffbae21-c4be-478d-a484-1654b2e44632",
   "metadata": {},
   "outputs": [],
   "source": [
    "# delete the Location and Cross_Street columns \n",
    "df.drop(['Location', 'Cross_Street'],axis=1,inplace=True)"
   ]
  },
  {
   "cell_type": "code",
   "execution_count": 21,
   "id": "4c6cad7e-a12c-4df9-a3e0-95e0e13215e3",
   "metadata": {},
   "outputs": [
    {
     "data": {
      "text/plain": [
       "21"
      ]
     },
     "execution_count": 21,
     "metadata": {},
     "output_type": "execute_result"
    }
   ],
   "source": [
    "df.Vict_Descent.nunique()"
   ]
  },
  {
   "cell_type": "code",
   "execution_count": 22,
   "id": "ddd12f68-129b-4d54-9650-57ec55541260",
   "metadata": {},
   "outputs": [],
   "source": [
    "Descent_Code = {\n",
    "    'A' : 'Other Asian',\n",
    "    'B' : 'Black',\n",
    "    'C' : 'Chinese',\n",
    "    'D' : 'Cambodian',\n",
    "    'F' : 'Filipino',\n",
    "    'G' : 'Guamanian',\n",
    "    'H' : 'Hispanic/Latin/Mexican',\n",
    "    'I' : 'American Indian/Alaskan Native ',\n",
    "    'J' : 'Japanese',\n",
    "    'K' : 'Korean',\n",
    "    'L' : 'Laotian',\n",
    "    'O' : 'Other',\n",
    "    'P' : 'Pacific Islander',\n",
    "    'S' : 'Samoan',\n",
    "    'U' : 'Hawaiian',\n",
    "    'V' : 'Vietnamese',\n",
    "    'W' : 'White',\n",
    "    'X' : 'Unknown',\n",
    "    'Z' : 'Asian Indian'\n",
    " }\n",
    "\n",
    "def Get_Vict_Ethnicity(code):\n",
    "    return Descent_Code.get(code, 'Unknown')\n",
    "df.Vict_Descent = df.Vict_Descent.apply(Get_Vict_Ethnicity)"
   ]
  },
  {
   "cell_type": "code",
   "execution_count": 23,
   "id": "35f1a246-a0c8-45e9-8069-ee29a209a66e",
   "metadata": {},
   "outputs": [
    {
     "data": {
      "text/plain": [
       "19"
      ]
     },
     "execution_count": 23,
     "metadata": {},
     "output_type": "execute_result"
    }
   ],
   "source": [
    "df.Vict_Descent.nunique()"
   ]
  },
  {
   "cell_type": "code",
   "execution_count": 24,
   "id": "94bd1101-53a7-41c1-b1af-21d64eea590a",
   "metadata": {},
   "outputs": [],
   "source": [
    "df.Vict_Descent = df.Vict_Descent.str.replace('Unknown','Other')"
   ]
  },
  {
   "cell_type": "code",
   "execution_count": 25,
   "id": "9e69da41-da0a-4317-bda7-f29185f23de4",
   "metadata": {},
   "outputs": [
    {
     "data": {
      "text/plain": [
       "2"
      ]
     },
     "execution_count": 25,
     "metadata": {},
     "output_type": "execute_result"
    }
   ],
   "source": [
    "df.Vict_Sex.nunique()"
   ]
  },
  {
   "cell_type": "code",
   "execution_count": 26,
   "id": "dad1d594-fe08-4b48-a91b-c150fbb7b7c6",
   "metadata": {},
   "outputs": [
    {
     "data": {
      "text/plain": [
       "18"
      ]
     },
     "execution_count": 26,
     "metadata": {},
     "output_type": "execute_result"
    }
   ],
   "source": [
    "df.Vict_Descent.nunique()"
   ]
  },
  {
   "cell_type": "code",
   "execution_count": 27,
   "id": "df8e0254-d96f-4184-8faf-1b7efa4d08a5",
   "metadata": {},
   "outputs": [
    {
     "data": {
      "text/plain": [
       "21"
      ]
     },
     "execution_count": 27,
     "metadata": {},
     "output_type": "execute_result"
    }
   ],
   "source": [
    "df.Area_Name.nunique()"
   ]
  },
  {
   "cell_type": "code",
   "execution_count": 28,
   "id": "4dad668f-1233-41b6-a3b5-273dbe73e5d8",
   "metadata": {},
   "outputs": [],
   "source": [
    "df.Time_Occ = df.Time_Occ.astype(str)"
   ]
  },
  {
   "cell_type": "code",
   "execution_count": 29,
   "id": "8701bdc7-51ff-4a92-b4c0-3c29f1b2b463",
   "metadata": {},
   "outputs": [
    {
     "data": {
      "text/html": [
       "<div>\n",
       "<style scoped>\n",
       "    .dataframe tbody tr th:only-of-type {\n",
       "        vertical-align: middle;\n",
       "    }\n",
       "\n",
       "    .dataframe tbody tr th {\n",
       "        vertical-align: top;\n",
       "    }\n",
       "\n",
       "    .dataframe thead th {\n",
       "        text-align: right;\n",
       "    }\n",
       "</style>\n",
       "<table border=\"1\" class=\"dataframe\">\n",
       "  <thead>\n",
       "    <tr style=\"text-align: right;\">\n",
       "      <th></th>\n",
       "      <th>Date_Rptd</th>\n",
       "      <th>Date_Occ</th>\n",
       "      <th>Time_Occ</th>\n",
       "      <th>Area_Name</th>\n",
       "      <th>Rpt_Dist_No</th>\n",
       "      <th>Crm_Cd_Desc</th>\n",
       "      <th>Vict_Age</th>\n",
       "      <th>Vict_Sex</th>\n",
       "      <th>Vict_Descent</th>\n",
       "      <th>Premis_Desc</th>\n",
       "      <th>Weapon_Desc</th>\n",
       "      <th>Status_Desc</th>\n",
       "      <th>Lat</th>\n",
       "      <th>Lon</th>\n",
       "      <th>Whole_Location</th>\n",
       "    </tr>\n",
       "  </thead>\n",
       "  <tbody>\n",
       "    <tr>\n",
       "      <th>1</th>\n",
       "      <td>02/09/2020</td>\n",
       "      <td>02/08/2020</td>\n",
       "      <td>1800</td>\n",
       "      <td>Central</td>\n",
       "      <td>182</td>\n",
       "      <td>Burglary From Vehicle</td>\n",
       "      <td>47</td>\n",
       "      <td>M</td>\n",
       "      <td>Other</td>\n",
       "      <td>Bus Stop/Layover (Also Query 124)</td>\n",
       "      <td>Unknown</td>\n",
       "      <td>Invest Cont</td>\n",
       "      <td>34.0444</td>\n",
       "      <td>-118.2628</td>\n",
       "      <td>1000 S  Flower                       St</td>\n",
       "    </tr>\n",
       "    <tr>\n",
       "      <th>3</th>\n",
       "      <td>05/10/2023</td>\n",
       "      <td>03/10/2020</td>\n",
       "      <td>2037</td>\n",
       "      <td>Van Nuys</td>\n",
       "      <td>964</td>\n",
       "      <td>Shoplifting-Grand Theft ($950.01 &amp; Over)</td>\n",
       "      <td>19</td>\n",
       "      <td>M</td>\n",
       "      <td>Other</td>\n",
       "      <td>Clothing Store</td>\n",
       "      <td>Unknown</td>\n",
       "      <td>Invest Cont</td>\n",
       "      <td>34.1576</td>\n",
       "      <td>-118.4387</td>\n",
       "      <td>14000    Riverside                    Dr</td>\n",
       "    </tr>\n",
       "  </tbody>\n",
       "</table>\n",
       "</div>"
      ],
      "text/plain": [
       "    Date_Rptd    Date_Occ Time_Occ Area_Name  Rpt_Dist_No  \\\n",
       "1  02/09/2020  02/08/2020     1800   Central          182   \n",
       "3  05/10/2023  03/10/2020     2037  Van Nuys          964   \n",
       "\n",
       "                                Crm_Cd_Desc  Vict_Age Vict_Sex Vict_Descent  \\\n",
       "1                     Burglary From Vehicle        47        M        Other   \n",
       "3  Shoplifting-Grand Theft ($950.01 & Over)        19        M        Other   \n",
       "\n",
       "                         Premis_Desc Weapon_Desc  Status_Desc      Lat  \\\n",
       "1  Bus Stop/Layover (Also Query 124)     Unknown  Invest Cont  34.0444   \n",
       "3                     Clothing Store     Unknown  Invest Cont  34.1576   \n",
       "\n",
       "        Lon                            Whole_Location  \n",
       "1 -118.2628   1000 S  Flower                       St  \n",
       "3 -118.4387  14000    Riverside                    Dr  "
      ]
     },
     "execution_count": 29,
     "metadata": {},
     "output_type": "execute_result"
    }
   ],
   "source": [
    "df.head(n=2)"
   ]
  },
  {
   "cell_type": "code",
   "execution_count": 30,
   "id": "2ce71f83-0060-47b3-be2f-2cfb5e0ba166",
   "metadata": {},
   "outputs": [
    {
     "data": {
      "text/plain": [
       "6"
      ]
     },
     "execution_count": 30,
     "metadata": {},
     "output_type": "execute_result"
    }
   ],
   "source": [
    "df.Status_Desc.nunique()"
   ]
  },
  {
   "cell_type": "code",
   "execution_count": 31,
   "id": "8618bbbd-2a8d-4507-b2d2-562fd906f07b",
   "metadata": {},
   "outputs": [],
   "source": [
    "df.Vict_Sex = df.Vict_Sex.map({'M':'Male','F':'Female'})"
   ]
  },
  {
   "cell_type": "code",
   "execution_count": 32,
   "id": "6f27559f-2352-404c-938a-a838a1273757",
   "metadata": {},
   "outputs": [
    {
     "data": {
      "text/plain": [
       "1         18:00\n",
       "3         20:37\n",
       "4         12:00\n",
       "5         23:00\n",
       "6         09:00\n",
       "          ...  \n",
       "932134    14:15\n",
       "932135    19:20\n",
       "932136    07:20\n",
       "932137    23:30\n",
       "932138    15:10\n",
       "Name: Time_Occ, Length: 685625, dtype: object"
      ]
     },
     "execution_count": 32,
     "metadata": {},
     "output_type": "execute_result"
    }
   ],
   "source": [
    "def Customize_Time(elem):\n",
    "    if len(elem) == 1:\n",
    "        elem = '0' + elem +'00'\n",
    "    elif len(elem) == 2:\n",
    "        elem = elem + '00'\n",
    "    elif len(elem) == 3:\n",
    "        elem = '0' + elem\n",
    "    return elem[:2] + ':' + elem[2:]\n",
    "\n",
    "def Time_Occurred(elem):\n",
    "    if len(elem) <= 4:\n",
    "        return Customize_Time(elem)\n",
    "    else:\n",
    "        return elem\n",
    "df['Time_Occ'] = df['Time_Occ'].apply(Time_Occurred)\n",
    "df.Time_Occ"
   ]
  },
  {
   "cell_type": "code",
   "execution_count": 33,
   "id": "0f4db999-a79a-4e7d-9894-b89794fc2222",
   "metadata": {},
   "outputs": [],
   "source": [
    "# Hours_Gt_24 is fuction that checks if the hours are greater then 24, if so then we assign it 0 in order to delete them later\n",
    "def Hours_Gt_24(elem):\n",
    "    test_cte = pd.to_numeric(elem[:2])\n",
    "    if test_cte < 24 :\n",
    "        return elem\n",
    "    else:\n",
    "        elem = 0\n",
    "        return elem\n",
    "\n",
    "df.Time_Occ = df.Time_Occ.apply(Hours_Gt_24)"
   ]
  },
  {
   "cell_type": "code",
   "execution_count": 34,
   "id": "a6ec3ccb-3576-43a0-97e1-c6b963da7567",
   "metadata": {},
   "outputs": [
    {
     "data": {
      "text/plain": [
       "(676231, 15)"
      ]
     },
     "execution_count": 34,
     "metadata": {},
     "output_type": "execute_result"
    }
   ],
   "source": [
    "df = df[df.Time_Occ != 0]\n",
    "df.shape"
   ]
  },
  {
   "cell_type": "code",
   "execution_count": 35,
   "id": "ef11b930-4b33-43ce-83e6-c7043d374243",
   "metadata": {},
   "outputs": [
    {
     "data": {
      "text/plain": [
       "array(['Invest Cont', 'Juv Arrest', 'Adult Arrest', 'Adult Other',\n",
       "       'Juv Other', 'Unk'], dtype=object)"
      ]
     },
     "execution_count": 35,
     "metadata": {},
     "output_type": "execute_result"
    }
   ],
   "source": [
    "df.Status_Desc.unique()"
   ]
  },
  {
   "cell_type": "code",
   "execution_count": 36,
   "id": "9114b483-520d-4d68-80a1-997143aaeec8",
   "metadata": {},
   "outputs": [],
   "source": [
    "var = {'Invest Cont':'Investigation Continued','Juv Arrest':'Juvenile Arrest','Juv Other':'Juvenile Other','Unk':'Unknown'}\n",
    "df.Status_Desc.replace(var,inplace=True)"
   ]
  },
  {
   "cell_type": "markdown",
   "id": "d732457b-d137-4d77-a0f6-9de440d6b56c",
   "metadata": {},
   "source": [
    "### Calculate the Response Time "
   ]
  },
  {
   "cell_type": "markdown",
   "id": "a3bd234c-5b9c-49e4-ae7f-62dd13e6d014",
   "metadata": {},
   "source": [
    "#### First Step: Extract the month, day, and year from \"Date_Rptd\" and \"Date_OCc\""
   ]
  },
  {
   "cell_type": "code",
   "execution_count": 37,
   "id": "faeed09a-5d79-4272-9347-a47517f9e0c8",
   "metadata": {},
   "outputs": [
    {
     "data": {
      "text/html": [
       "<div>\n",
       "<style scoped>\n",
       "    .dataframe tbody tr th:only-of-type {\n",
       "        vertical-align: middle;\n",
       "    }\n",
       "\n",
       "    .dataframe tbody tr th {\n",
       "        vertical-align: top;\n",
       "    }\n",
       "\n",
       "    .dataframe thead th {\n",
       "        text-align: right;\n",
       "    }\n",
       "</style>\n",
       "<table border=\"1\" class=\"dataframe\">\n",
       "  <thead>\n",
       "    <tr style=\"text-align: right;\">\n",
       "      <th></th>\n",
       "      <th>Date_Rptd</th>\n",
       "      <th>Date_Occ</th>\n",
       "      <th>Time_Occ</th>\n",
       "      <th>Area_Name</th>\n",
       "      <th>Rpt_Dist_No</th>\n",
       "      <th>Crm_Cd_Desc</th>\n",
       "      <th>Vict_Age</th>\n",
       "      <th>Vict_Sex</th>\n",
       "      <th>Vict_Descent</th>\n",
       "      <th>Premis_Desc</th>\n",
       "      <th>...</th>\n",
       "      <th>Status_Desc</th>\n",
       "      <th>Lat</th>\n",
       "      <th>Lon</th>\n",
       "      <th>Whole_Location</th>\n",
       "      <th>Rptd_Month</th>\n",
       "      <th>Rptd_Day</th>\n",
       "      <th>Rptd_Year</th>\n",
       "      <th>Occ_Month</th>\n",
       "      <th>Occ_Day</th>\n",
       "      <th>Occ_Year</th>\n",
       "    </tr>\n",
       "  </thead>\n",
       "  <tbody>\n",
       "    <tr>\n",
       "      <th>1</th>\n",
       "      <td>02/09/2020</td>\n",
       "      <td>02/08/2020</td>\n",
       "      <td>18:00</td>\n",
       "      <td>Central</td>\n",
       "      <td>182</td>\n",
       "      <td>Burglary From Vehicle</td>\n",
       "      <td>47</td>\n",
       "      <td>Male</td>\n",
       "      <td>Other</td>\n",
       "      <td>Bus Stop/Layover (Also Query 124)</td>\n",
       "      <td>...</td>\n",
       "      <td>Investigation Continued</td>\n",
       "      <td>34.0444</td>\n",
       "      <td>-118.2628</td>\n",
       "      <td>1000 S  Flower                       St</td>\n",
       "      <td>02</td>\n",
       "      <td>09</td>\n",
       "      <td>2020</td>\n",
       "      <td>02</td>\n",
       "      <td>08</td>\n",
       "      <td>2020</td>\n",
       "    </tr>\n",
       "    <tr>\n",
       "      <th>3</th>\n",
       "      <td>05/10/2023</td>\n",
       "      <td>03/10/2020</td>\n",
       "      <td>20:37</td>\n",
       "      <td>Van Nuys</td>\n",
       "      <td>964</td>\n",
       "      <td>Shoplifting-Grand Theft ($950.01 &amp; Over)</td>\n",
       "      <td>19</td>\n",
       "      <td>Male</td>\n",
       "      <td>Other</td>\n",
       "      <td>Clothing Store</td>\n",
       "      <td>...</td>\n",
       "      <td>Investigation Continued</td>\n",
       "      <td>34.1576</td>\n",
       "      <td>-118.4387</td>\n",
       "      <td>14000    Riverside                    Dr</td>\n",
       "      <td>05</td>\n",
       "      <td>10</td>\n",
       "      <td>2023</td>\n",
       "      <td>03</td>\n",
       "      <td>10</td>\n",
       "      <td>2020</td>\n",
       "    </tr>\n",
       "  </tbody>\n",
       "</table>\n",
       "<p>2 rows × 21 columns</p>\n",
       "</div>"
      ],
      "text/plain": [
       "    Date_Rptd    Date_Occ Time_Occ Area_Name  Rpt_Dist_No  \\\n",
       "1  02/09/2020  02/08/2020    18:00   Central          182   \n",
       "3  05/10/2023  03/10/2020    20:37  Van Nuys          964   \n",
       "\n",
       "                                Crm_Cd_Desc  Vict_Age Vict_Sex Vict_Descent  \\\n",
       "1                     Burglary From Vehicle        47     Male        Other   \n",
       "3  Shoplifting-Grand Theft ($950.01 & Over)        19     Male        Other   \n",
       "\n",
       "                         Premis_Desc  ...              Status_Desc      Lat  \\\n",
       "1  Bus Stop/Layover (Also Query 124)  ...  Investigation Continued  34.0444   \n",
       "3                     Clothing Store  ...  Investigation Continued  34.1576   \n",
       "\n",
       "        Lon                            Whole_Location Rptd_Month Rptd_Day  \\\n",
       "1 -118.2628   1000 S  Flower                       St         02       09   \n",
       "3 -118.4387  14000    Riverside                    Dr         05       10   \n",
       "\n",
       "  Rptd_Year Occ_Month Occ_Day Occ_Year  \n",
       "1      2020        02      08     2020  \n",
       "3      2023        03      10     2020  \n",
       "\n",
       "[2 rows x 21 columns]"
      ]
     },
     "execution_count": 37,
     "metadata": {},
     "output_type": "execute_result"
    }
   ],
   "source": [
    "Df_Date_Test = df.copy()\n",
    "Df_Date_Test['Rptd_Month'] = Df_Date_Test['Date_Rptd'].str.split('/').str[0]\n",
    "Df_Date_Test['Rptd_Day'] = Df_Date_Test['Date_Rptd'].str.split('/').str[1]\n",
    "Df_Date_Test['Rptd_Year'] = Df_Date_Test['Date_Rptd'].str.split('/').str[2]\n",
    "\n",
    "Df_Date_Test['Occ_Month'] = Df_Date_Test['Date_Occ'].str.split('/').str[0]\n",
    "Df_Date_Test['Occ_Day'] = Df_Date_Test['Date_Occ'].str.split('/').str[1]\n",
    "Df_Date_Test['Occ_Year'] = Df_Date_Test['Date_Occ'].str.split('/').str[2]\n",
    "Df_Date_Test.head(n=2)"
   ]
  },
  {
   "cell_type": "markdown",
   "id": "30d372fa-f4ec-4709-ab51-9c1845a31bc0",
   "metadata": {},
   "source": [
    "#### Second Step: Verify that the crime was not reported before it's occured"
   ]
  },
  {
   "cell_type": "code",
   "execution_count": 38,
   "id": "0d84e9df-572c-481d-9110-c34f0d402563",
   "metadata": {},
   "outputs": [
    {
     "data": {
      "text/html": [
       "<div>\n",
       "<style scoped>\n",
       "    .dataframe tbody tr th:only-of-type {\n",
       "        vertical-align: middle;\n",
       "    }\n",
       "\n",
       "    .dataframe tbody tr th {\n",
       "        vertical-align: top;\n",
       "    }\n",
       "\n",
       "    .dataframe thead th {\n",
       "        text-align: right;\n",
       "    }\n",
       "</style>\n",
       "<table border=\"1\" class=\"dataframe\">\n",
       "  <thead>\n",
       "    <tr style=\"text-align: right;\">\n",
       "      <th></th>\n",
       "      <th>Date_Rptd</th>\n",
       "      <th>Date_Occ</th>\n",
       "      <th>Time_Occ</th>\n",
       "      <th>Area_Name</th>\n",
       "      <th>Rpt_Dist_No</th>\n",
       "      <th>Crm_Cd_Desc</th>\n",
       "      <th>Vict_Age</th>\n",
       "      <th>Vict_Sex</th>\n",
       "      <th>Vict_Descent</th>\n",
       "      <th>Premis_Desc</th>\n",
       "      <th>...</th>\n",
       "      <th>Status_Desc</th>\n",
       "      <th>Lat</th>\n",
       "      <th>Lon</th>\n",
       "      <th>Whole_Location</th>\n",
       "      <th>Rptd_Month</th>\n",
       "      <th>Rptd_Day</th>\n",
       "      <th>Rptd_Year</th>\n",
       "      <th>Occ_Month</th>\n",
       "      <th>Occ_Day</th>\n",
       "      <th>Occ_Year</th>\n",
       "    </tr>\n",
       "  </thead>\n",
       "  <tbody>\n",
       "  </tbody>\n",
       "</table>\n",
       "<p>0 rows × 21 columns</p>\n",
       "</div>"
      ],
      "text/plain": [
       "Empty DataFrame\n",
       "Columns: [Date_Rptd, Date_Occ, Time_Occ, Area_Name, Rpt_Dist_No, Crm_Cd_Desc, Vict_Age, Vict_Sex, Vict_Descent, Premis_Desc, Weapon_Desc, Status_Desc, Lat, Lon, Whole_Location, Rptd_Month, Rptd_Day, Rptd_Year, Occ_Month, Occ_Day, Occ_Year]\n",
       "Index: []\n",
       "\n",
       "[0 rows x 21 columns]"
      ]
     },
     "execution_count": 38,
     "metadata": {},
     "output_type": "execute_result"
    }
   ],
   "source": [
    "Df_Date_Test[Df_Date_Test['Rptd_Year'] < Df_Date_Test['Occ_Year']]"
   ]
  },
  {
   "cell_type": "code",
   "execution_count": 39,
   "id": "f5d99ff6-90c5-438b-a97a-70468c5b2ae6",
   "metadata": {},
   "outputs": [
    {
     "data": {
      "text/html": [
       "<div>\n",
       "<style scoped>\n",
       "    .dataframe tbody tr th:only-of-type {\n",
       "        vertical-align: middle;\n",
       "    }\n",
       "\n",
       "    .dataframe tbody tr th {\n",
       "        vertical-align: top;\n",
       "    }\n",
       "\n",
       "    .dataframe thead th {\n",
       "        text-align: right;\n",
       "    }\n",
       "</style>\n",
       "<table border=\"1\" class=\"dataframe\">\n",
       "  <thead>\n",
       "    <tr style=\"text-align: right;\">\n",
       "      <th></th>\n",
       "      <th>Date_Rptd</th>\n",
       "      <th>Date_Occ</th>\n",
       "      <th>Time_Occ</th>\n",
       "      <th>Area_Name</th>\n",
       "      <th>Rpt_Dist_No</th>\n",
       "      <th>Crm_Cd_Desc</th>\n",
       "      <th>Vict_Age</th>\n",
       "      <th>Vict_Sex</th>\n",
       "      <th>Vict_Descent</th>\n",
       "      <th>Premis_Desc</th>\n",
       "      <th>...</th>\n",
       "      <th>Status_Desc</th>\n",
       "      <th>Lat</th>\n",
       "      <th>Lon</th>\n",
       "      <th>Whole_Location</th>\n",
       "      <th>Rptd_Month</th>\n",
       "      <th>Rptd_Day</th>\n",
       "      <th>Rptd_Year</th>\n",
       "      <th>Occ_Month</th>\n",
       "      <th>Occ_Day</th>\n",
       "      <th>Occ_Year</th>\n",
       "    </tr>\n",
       "  </thead>\n",
       "  <tbody>\n",
       "  </tbody>\n",
       "</table>\n",
       "<p>0 rows × 21 columns</p>\n",
       "</div>"
      ],
      "text/plain": [
       "Empty DataFrame\n",
       "Columns: [Date_Rptd, Date_Occ, Time_Occ, Area_Name, Rpt_Dist_No, Crm_Cd_Desc, Vict_Age, Vict_Sex, Vict_Descent, Premis_Desc, Weapon_Desc, Status_Desc, Lat, Lon, Whole_Location, Rptd_Month, Rptd_Day, Rptd_Year, Occ_Month, Occ_Day, Occ_Year]\n",
       "Index: []\n",
       "\n",
       "[0 rows x 21 columns]"
      ]
     },
     "execution_count": 39,
     "metadata": {},
     "output_type": "execute_result"
    }
   ],
   "source": [
    "Df_Date_Test[(Df_Date_Test['Rptd_Year'] == Df_Date_Test['Occ_Year']) & (Df_Date_Test['Rptd_Month'] < Df_Date_Test['Occ_Month'])]"
   ]
  },
  {
   "cell_type": "code",
   "execution_count": 40,
   "id": "01ef020b-76dd-40a1-8e18-d3621bfb7c81",
   "metadata": {},
   "outputs": [
    {
     "data": {
      "text/html": [
       "<div>\n",
       "<style scoped>\n",
       "    .dataframe tbody tr th:only-of-type {\n",
       "        vertical-align: middle;\n",
       "    }\n",
       "\n",
       "    .dataframe tbody tr th {\n",
       "        vertical-align: top;\n",
       "    }\n",
       "\n",
       "    .dataframe thead th {\n",
       "        text-align: right;\n",
       "    }\n",
       "</style>\n",
       "<table border=\"1\" class=\"dataframe\">\n",
       "  <thead>\n",
       "    <tr style=\"text-align: right;\">\n",
       "      <th></th>\n",
       "      <th>Date_Rptd</th>\n",
       "      <th>Date_Occ</th>\n",
       "      <th>Time_Occ</th>\n",
       "      <th>Area_Name</th>\n",
       "      <th>Rpt_Dist_No</th>\n",
       "      <th>Crm_Cd_Desc</th>\n",
       "      <th>Vict_Age</th>\n",
       "      <th>Vict_Sex</th>\n",
       "      <th>Vict_Descent</th>\n",
       "      <th>Premis_Desc</th>\n",
       "      <th>...</th>\n",
       "      <th>Status_Desc</th>\n",
       "      <th>Lat</th>\n",
       "      <th>Lon</th>\n",
       "      <th>Whole_Location</th>\n",
       "      <th>Rptd_Month</th>\n",
       "      <th>Rptd_Day</th>\n",
       "      <th>Rptd_Year</th>\n",
       "      <th>Occ_Month</th>\n",
       "      <th>Occ_Day</th>\n",
       "      <th>Occ_Year</th>\n",
       "    </tr>\n",
       "  </thead>\n",
       "  <tbody>\n",
       "  </tbody>\n",
       "</table>\n",
       "<p>0 rows × 21 columns</p>\n",
       "</div>"
      ],
      "text/plain": [
       "Empty DataFrame\n",
       "Columns: [Date_Rptd, Date_Occ, Time_Occ, Area_Name, Rpt_Dist_No, Crm_Cd_Desc, Vict_Age, Vict_Sex, Vict_Descent, Premis_Desc, Weapon_Desc, Status_Desc, Lat, Lon, Whole_Location, Rptd_Month, Rptd_Day, Rptd_Year, Occ_Month, Occ_Day, Occ_Year]\n",
       "Index: []\n",
       "\n",
       "[0 rows x 21 columns]"
      ]
     },
     "execution_count": 40,
     "metadata": {},
     "output_type": "execute_result"
    }
   ],
   "source": [
    "Df_Date_Test[(Df_Date_Test['Rptd_Year'] == Df_Date_Test['Occ_Year']) & (Df_Date_Test['Rptd_Month'] == Df_Date_Test['Occ_Month']) & (Df_Date_Test['Rptd_Day'] < Df_Date_Test['Occ_Day'])]"
   ]
  },
  {
   "cell_type": "code",
   "execution_count": 41,
   "id": "1e4591da-c506-4d55-a72a-603d3c016809",
   "metadata": {},
   "outputs": [],
   "source": [
    "df = df.rename(columns={'Whole_Location':'Location'})\n",
    "# df.columns"
   ]
  },
  {
   "cell_type": "code",
   "execution_count": 42,
   "id": "052d6e9d-0195-43d6-8522-6a752e325976",
   "metadata": {},
   "outputs": [],
   "source": [
    "# df.Location\n",
    "df = df[(df.Lat != 00.00) & (df.Lon != 00.00)]"
   ]
  },
  {
   "cell_type": "code",
   "execution_count": 43,
   "id": "927749bf-14f1-4047-84ab-306122c31df1",
   "metadata": {},
   "outputs": [],
   "source": [
    "# df.to_csv('Data/Cleaned_Data.csv',index=False)"
   ]
  },
  {
   "cell_type": "code",
   "execution_count": null,
   "id": "9b8caebf-9938-4214-b6c7-6161652bd67d",
   "metadata": {},
   "outputs": [],
   "source": []
  },
  {
   "cell_type": "code",
   "execution_count": null,
   "id": "99e25440-fcb7-4110-a1c8-4c3d929d1553",
   "metadata": {},
   "outputs": [],
   "source": []
  },
  {
   "cell_type": "code",
   "execution_count": null,
   "id": "9f394f40-a84a-4528-9e71-d563ece30dfa",
   "metadata": {},
   "outputs": [],
   "source": []
  },
  {
   "cell_type": "code",
   "execution_count": null,
   "id": "5457b6be-f387-468a-aece-5670e20db42b",
   "metadata": {},
   "outputs": [],
   "source": []
  },
  {
   "cell_type": "code",
   "execution_count": null,
   "id": "8e8d6242-539b-450c-96b6-b64af55368ab",
   "metadata": {},
   "outputs": [],
   "source": []
  },
  {
   "cell_type": "code",
   "execution_count": null,
   "id": "c9153951-2b94-4717-8a66-a2cf77cd0b1c",
   "metadata": {},
   "outputs": [],
   "source": []
  },
  {
   "cell_type": "code",
   "execution_count": null,
   "id": "6f445ade-444e-466d-bd73-158218cb82b9",
   "metadata": {},
   "outputs": [],
   "source": []
  },
  {
   "cell_type": "code",
   "execution_count": null,
   "id": "8b38ce79-b777-4e92-92d9-a51983c797a8",
   "metadata": {},
   "outputs": [],
   "source": []
  }
 ],
 "metadata": {
  "kernelspec": {
   "display_name": "Python 3 (ipykernel)",
   "language": "python",
   "name": "python3"
  },
  "language_info": {
   "codemirror_mode": {
    "name": "ipython",
    "version": 3
   },
   "file_extension": ".py",
   "mimetype": "text/x-python",
   "name": "python",
   "nbconvert_exporter": "python",
   "pygments_lexer": "ipython3",
   "version": "3.12.0"
  }
 },
 "nbformat": 4,
 "nbformat_minor": 5
}
